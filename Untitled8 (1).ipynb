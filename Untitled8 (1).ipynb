{
  "cells": [
    {
      "cell_type": "code",
      "execution_count": null,
      "metadata": {
        "colab": {
          "base_uri": "https://localhost:8080/"
        },
        "id": "iAS_DyZSMwnR",
        "outputId": "79d86a55-aec1-4aa1-b5af-40b063d2a8c3"
      },
      "outputs": [
        {
          "output_type": "stream",
          "name": "stdout",
          "text": [
            "Downloading...\n",
            "From: https://isic-challenge-data.s3.amazonaws.com/2020/ISIC_2020_Training_JPEG.zip\n",
            "To: /content/ISIC_2020_Training_JPEG.zip\n",
            "100% 24.7G/24.7G [08:51<00:00, 46.5MB/s]\n"
          ]
        }
      ],
      "source": [
        "!gdown 'https://isic-challenge-data.s3.amazonaws.com/2020/ISIC_2020_Training_JPEG.zip'"
      ]
    },
    {
      "cell_type": "code",
      "execution_count": null,
      "metadata": {
        "colab": {
          "base_uri": "https://localhost:8080/"
        },
        "id": "kVnVW7fshuP8",
        "outputId": "662f62e4-f0ee-4bc1-c592-20af114a81f0"
      },
      "outputs": [
        {
          "output_type": "stream",
          "name": "stdout",
          "text": [
            "Downloading...\n",
            "From: https://isic-challenge-data.s3.amazonaws.com/2020/ISIC_2020_Training_GroundTruth.csv\n",
            "To: /content/ISIC_2020_Training_GroundTruth.csv\n",
            "\r  0% 0.00/2.06M [00:00<?, ?B/s]\r100% 2.06M/2.06M [00:00<00:00, 38.9MB/s]\n"
          ]
        }
      ],
      "source": [
        "!gdown 'https://isic-challenge-data.s3.amazonaws.com/2020/ISIC_2020_Training_GroundTruth.csv'"
      ]
    },
    {
      "cell_type": "code",
      "execution_count": null,
      "metadata": {
        "id": "5AOfi0RHLDcP"
      },
      "outputs": [],
      "source": [
        "!unzip ISIC_2020_Training_JPEG.zip"
      ]
    },
    {
      "cell_type": "code",
      "execution_count": null,
      "metadata": {
        "id": "1Q9lfAcOe2E1"
      },
      "outputs": [],
      "source": [
        "!rm ISIC_2020_Training_JPEG.zip"
      ]
    },
    {
      "cell_type": "code",
      "execution_count": null,
      "metadata": {
        "id": "4pokTUOIW2vq",
        "colab": {
          "base_uri": "https://localhost:8080/"
        },
        "outputId": "84dd9d46-1f16-4fdc-c1cd-97a428cc249e"
      },
      "outputs": [
        {
          "output_type": "stream",
          "name": "stdout",
          "text": [
            "Looking in indexes: https://pypi.org/simple, https://us-python.pkg.dev/colab-wheels/public/simple/\n",
            "Collecting livelossplot\n",
            "  Downloading livelossplot-0.5.5-py3-none-any.whl (22 kB)\n",
            "Requirement already satisfied: matplotlib in /usr/local/lib/python3.7/dist-packages (from livelossplot) (3.2.2)\n",
            "Requirement already satisfied: bokeh in /usr/local/lib/python3.7/dist-packages (from livelossplot) (2.3.3)\n",
            "Requirement already satisfied: ipython==7.* in /usr/local/lib/python3.7/dist-packages (from livelossplot) (7.9.0)\n",
            "Requirement already satisfied: numpy<1.22 in /usr/local/lib/python3.7/dist-packages (from livelossplot) (1.21.6)\n",
            "Requirement already satisfied: prompt-toolkit<2.1.0,>=2.0.0 in /usr/local/lib/python3.7/dist-packages (from ipython==7.*->livelossplot) (2.0.10)\n",
            "Requirement already satisfied: traitlets>=4.2 in /usr/local/lib/python3.7/dist-packages (from ipython==7.*->livelossplot) (5.1.1)\n",
            "Requirement already satisfied: pickleshare in /usr/local/lib/python3.7/dist-packages (from ipython==7.*->livelossplot) (0.7.5)\n",
            "Collecting jedi>=0.10\n",
            "  Downloading jedi-0.18.1-py2.py3-none-any.whl (1.6 MB)\n",
            "\u001b[K     |████████████████████████████████| 1.6 MB 31.0 MB/s \n",
            "\u001b[?25hRequirement already satisfied: decorator in /usr/local/lib/python3.7/dist-packages (from ipython==7.*->livelossplot) (4.4.2)\n",
            "Requirement already satisfied: pygments in /usr/local/lib/python3.7/dist-packages (from ipython==7.*->livelossplot) (2.6.1)\n",
            "Requirement already satisfied: pexpect in /usr/local/lib/python3.7/dist-packages (from ipython==7.*->livelossplot) (4.8.0)\n",
            "Requirement already satisfied: setuptools>=18.5 in /usr/local/lib/python3.7/dist-packages (from ipython==7.*->livelossplot) (57.4.0)\n",
            "Requirement already satisfied: backcall in /usr/local/lib/python3.7/dist-packages (from ipython==7.*->livelossplot) (0.2.0)\n",
            "Requirement already satisfied: parso<0.9.0,>=0.8.0 in /usr/local/lib/python3.7/dist-packages (from jedi>=0.10->ipython==7.*->livelossplot) (0.8.3)\n",
            "Requirement already satisfied: wcwidth in /usr/local/lib/python3.7/dist-packages (from prompt-toolkit<2.1.0,>=2.0.0->ipython==7.*->livelossplot) (0.2.5)\n",
            "Requirement already satisfied: six>=1.9.0 in /usr/local/lib/python3.7/dist-packages (from prompt-toolkit<2.1.0,>=2.0.0->ipython==7.*->livelossplot) (1.15.0)\n",
            "Requirement already satisfied: python-dateutil>=2.1 in /usr/local/lib/python3.7/dist-packages (from bokeh->livelossplot) (2.8.2)\n",
            "Requirement already satisfied: typing-extensions>=3.7.4 in /usr/local/lib/python3.7/dist-packages (from bokeh->livelossplot) (4.1.1)\n",
            "Requirement already satisfied: tornado>=5.1 in /usr/local/lib/python3.7/dist-packages (from bokeh->livelossplot) (5.1.1)\n",
            "Requirement already satisfied: packaging>=16.8 in /usr/local/lib/python3.7/dist-packages (from bokeh->livelossplot) (21.3)\n",
            "Requirement already satisfied: Jinja2>=2.9 in /usr/local/lib/python3.7/dist-packages (from bokeh->livelossplot) (2.11.3)\n",
            "Requirement already satisfied: pillow>=7.1.0 in /usr/local/lib/python3.7/dist-packages (from bokeh->livelossplot) (7.1.2)\n",
            "Requirement already satisfied: PyYAML>=3.10 in /usr/local/lib/python3.7/dist-packages (from bokeh->livelossplot) (6.0)\n",
            "Requirement already satisfied: MarkupSafe>=0.23 in /usr/local/lib/python3.7/dist-packages (from Jinja2>=2.9->bokeh->livelossplot) (2.0.1)\n",
            "Requirement already satisfied: pyparsing!=3.0.5,>=2.0.2 in /usr/local/lib/python3.7/dist-packages (from packaging>=16.8->bokeh->livelossplot) (3.0.9)\n",
            "Requirement already satisfied: cycler>=0.10 in /usr/local/lib/python3.7/dist-packages (from matplotlib->livelossplot) (0.11.0)\n",
            "Requirement already satisfied: kiwisolver>=1.0.1 in /usr/local/lib/python3.7/dist-packages (from matplotlib->livelossplot) (1.4.4)\n",
            "Requirement already satisfied: ptyprocess>=0.5 in /usr/local/lib/python3.7/dist-packages (from pexpect->ipython==7.*->livelossplot) (0.7.0)\n",
            "Installing collected packages: jedi, livelossplot\n",
            "Successfully installed jedi-0.18.1 livelossplot-0.5.5\n"
          ]
        }
      ],
      "source": [
        "!pip install livelossplot"
      ]
    },
    {
      "cell_type": "code",
      "execution_count": null,
      "metadata": {
        "id": "ZkwjyILWKD_j"
      },
      "outputs": [],
      "source": [
        "import numpy as np # linear algebra\n",
        "import pandas as pd # data processing, CSV file I/O (e.g. pd.read_csv)\n",
        "import cv2\n",
        "import PIL\n",
        "from IPython.display import Image, display\n",
        "from keras.applications.vgg16 import VGG16,preprocess_input\n",
        "# Plotly for the interactive viewer (see last section)\n",
        "import plotly.graph_objs as go\n",
        "import plotly.graph_objects as go\n",
        "from sklearn.metrics import cohen_kappa_score\n",
        "from sklearn.model_selection import train_test_split\n",
        "from keras.models import Sequential, Model,load_model\n",
        "from keras.applications.vgg16 import VGG16,preprocess_input\n",
        "from keras.preprocessing.image import ImageDataGenerator,load_img, img_to_array\n",
        "from keras.models import Sequential\n",
        "from keras.layers import Conv2D, MaxPooling2D, Dense, Dropout, Input, Flatten,BatchNormalization,Activation\n",
        "from keras.layers import GlobalMaxPooling2D\n",
        "from keras.models import Model\n",
        "from tensorflow.keras.optimizers import Adam, SGD, RMSprop\n",
        "from keras.callbacks import ModelCheckpoint, Callback, EarlyStopping\n",
        "from tensorflow.keras.utils import to_categorical\n",
        "from tensorflow.keras.preprocessing.image import ImageDataGenerator\n",
        "import gc\n",
        "import skimage.io\n",
        "import tensorflow as tf\n",
        "import tensorflow.keras.applications.resnet50\n",
        "import matplotlib.pyplot as plt\n",
        "from tensorflow.python.keras import backend as K\n",
        "from livelossplot import PlotLossesKeras\n",
        "from sklearn import metrics"
      ]
    },
    {
      "cell_type": "code",
      "execution_count": null,
      "metadata": {
        "id": "jNebkavdKKi4"
      },
      "outputs": [],
      "source": [
        "train_dir='./train/'\n",
        "test_dir='./train/'\n",
        "train=pd.read_csv('./train.csv')\n",
        "# test=pd.read_csv('./test.csv')\n"
      ]
    },
    {
      "cell_type": "code",
      "execution_count": null,
      "metadata": {
        "colab": {
          "base_uri": "https://localhost:8080/",
          "height": 206
        },
        "id": "2Vxbk2_tKKfv",
        "outputId": "c75eb6b4-9b26-4100-837e-81bea3b0a779"
      },
      "outputs": [
        {
          "output_type": "execute_result",
          "data": {
            "text/plain": [
              "     image_name  patient_id     sex  age_approx anatom_site_general_challenge  \\\n",
              "0  ISIC_2637011  IP_7279968    male        45.0                     head/neck   \n",
              "1  ISIC_0015719  IP_3075186  female        45.0               upper extremity   \n",
              "2  ISIC_0052212  IP_2842074  female        50.0               lower extremity   \n",
              "3  ISIC_0068279  IP_6890425  female        45.0                     head/neck   \n",
              "4  ISIC_0074268  IP_8723313  female        55.0               upper extremity   \n",
              "\n",
              "  diagnosis benign_malignant  target  \n",
              "0   unknown           benign       0  \n",
              "1   unknown           benign       0  \n",
              "2     nevus           benign       0  \n",
              "3   unknown           benign       0  \n",
              "4   unknown           benign       0  "
            ],
            "text/html": [
              "\n",
              "  <div id=\"df-f28af9b4-f5fd-43bb-8ca2-f6d4ba34a6be\">\n",
              "    <div class=\"colab-df-container\">\n",
              "      <div>\n",
              "<style scoped>\n",
              "    .dataframe tbody tr th:only-of-type {\n",
              "        vertical-align: middle;\n",
              "    }\n",
              "\n",
              "    .dataframe tbody tr th {\n",
              "        vertical-align: top;\n",
              "    }\n",
              "\n",
              "    .dataframe thead th {\n",
              "        text-align: right;\n",
              "    }\n",
              "</style>\n",
              "<table border=\"1\" class=\"dataframe\">\n",
              "  <thead>\n",
              "    <tr style=\"text-align: right;\">\n",
              "      <th></th>\n",
              "      <th>image_name</th>\n",
              "      <th>patient_id</th>\n",
              "      <th>sex</th>\n",
              "      <th>age_approx</th>\n",
              "      <th>anatom_site_general_challenge</th>\n",
              "      <th>diagnosis</th>\n",
              "      <th>benign_malignant</th>\n",
              "      <th>target</th>\n",
              "    </tr>\n",
              "  </thead>\n",
              "  <tbody>\n",
              "    <tr>\n",
              "      <th>0</th>\n",
              "      <td>ISIC_2637011</td>\n",
              "      <td>IP_7279968</td>\n",
              "      <td>male</td>\n",
              "      <td>45.0</td>\n",
              "      <td>head/neck</td>\n",
              "      <td>unknown</td>\n",
              "      <td>benign</td>\n",
              "      <td>0</td>\n",
              "    </tr>\n",
              "    <tr>\n",
              "      <th>1</th>\n",
              "      <td>ISIC_0015719</td>\n",
              "      <td>IP_3075186</td>\n",
              "      <td>female</td>\n",
              "      <td>45.0</td>\n",
              "      <td>upper extremity</td>\n",
              "      <td>unknown</td>\n",
              "      <td>benign</td>\n",
              "      <td>0</td>\n",
              "    </tr>\n",
              "    <tr>\n",
              "      <th>2</th>\n",
              "      <td>ISIC_0052212</td>\n",
              "      <td>IP_2842074</td>\n",
              "      <td>female</td>\n",
              "      <td>50.0</td>\n",
              "      <td>lower extremity</td>\n",
              "      <td>nevus</td>\n",
              "      <td>benign</td>\n",
              "      <td>0</td>\n",
              "    </tr>\n",
              "    <tr>\n",
              "      <th>3</th>\n",
              "      <td>ISIC_0068279</td>\n",
              "      <td>IP_6890425</td>\n",
              "      <td>female</td>\n",
              "      <td>45.0</td>\n",
              "      <td>head/neck</td>\n",
              "      <td>unknown</td>\n",
              "      <td>benign</td>\n",
              "      <td>0</td>\n",
              "    </tr>\n",
              "    <tr>\n",
              "      <th>4</th>\n",
              "      <td>ISIC_0074268</td>\n",
              "      <td>IP_8723313</td>\n",
              "      <td>female</td>\n",
              "      <td>55.0</td>\n",
              "      <td>upper extremity</td>\n",
              "      <td>unknown</td>\n",
              "      <td>benign</td>\n",
              "      <td>0</td>\n",
              "    </tr>\n",
              "  </tbody>\n",
              "</table>\n",
              "</div>\n",
              "      <button class=\"colab-df-convert\" onclick=\"convertToInteractive('df-f28af9b4-f5fd-43bb-8ca2-f6d4ba34a6be')\"\n",
              "              title=\"Convert this dataframe to an interactive table.\"\n",
              "              style=\"display:none;\">\n",
              "        \n",
              "  <svg xmlns=\"http://www.w3.org/2000/svg\" height=\"24px\"viewBox=\"0 0 24 24\"\n",
              "       width=\"24px\">\n",
              "    <path d=\"M0 0h24v24H0V0z\" fill=\"none\"/>\n",
              "    <path d=\"M18.56 5.44l.94 2.06.94-2.06 2.06-.94-2.06-.94-.94-2.06-.94 2.06-2.06.94zm-11 1L8.5 8.5l.94-2.06 2.06-.94-2.06-.94L8.5 2.5l-.94 2.06-2.06.94zm10 10l.94 2.06.94-2.06 2.06-.94-2.06-.94-.94-2.06-.94 2.06-2.06.94z\"/><path d=\"M17.41 7.96l-1.37-1.37c-.4-.4-.92-.59-1.43-.59-.52 0-1.04.2-1.43.59L10.3 9.45l-7.72 7.72c-.78.78-.78 2.05 0 2.83L4 21.41c.39.39.9.59 1.41.59.51 0 1.02-.2 1.41-.59l7.78-7.78 2.81-2.81c.8-.78.8-2.07 0-2.86zM5.41 20L4 18.59l7.72-7.72 1.47 1.35L5.41 20z\"/>\n",
              "  </svg>\n",
              "      </button>\n",
              "      \n",
              "  <style>\n",
              "    .colab-df-container {\n",
              "      display:flex;\n",
              "      flex-wrap:wrap;\n",
              "      gap: 12px;\n",
              "    }\n",
              "\n",
              "    .colab-df-convert {\n",
              "      background-color: #E8F0FE;\n",
              "      border: none;\n",
              "      border-radius: 50%;\n",
              "      cursor: pointer;\n",
              "      display: none;\n",
              "      fill: #1967D2;\n",
              "      height: 32px;\n",
              "      padding: 0 0 0 0;\n",
              "      width: 32px;\n",
              "    }\n",
              "\n",
              "    .colab-df-convert:hover {\n",
              "      background-color: #E2EBFA;\n",
              "      box-shadow: 0px 1px 2px rgba(60, 64, 67, 0.3), 0px 1px 3px 1px rgba(60, 64, 67, 0.15);\n",
              "      fill: #174EA6;\n",
              "    }\n",
              "\n",
              "    [theme=dark] .colab-df-convert {\n",
              "      background-color: #3B4455;\n",
              "      fill: #D2E3FC;\n",
              "    }\n",
              "\n",
              "    [theme=dark] .colab-df-convert:hover {\n",
              "      background-color: #434B5C;\n",
              "      box-shadow: 0px 1px 3px 1px rgba(0, 0, 0, 0.15);\n",
              "      filter: drop-shadow(0px 1px 2px rgba(0, 0, 0, 0.3));\n",
              "      fill: #FFFFFF;\n",
              "    }\n",
              "  </style>\n",
              "\n",
              "      <script>\n",
              "        const buttonEl =\n",
              "          document.querySelector('#df-f28af9b4-f5fd-43bb-8ca2-f6d4ba34a6be button.colab-df-convert');\n",
              "        buttonEl.style.display =\n",
              "          google.colab.kernel.accessAllowed ? 'block' : 'none';\n",
              "\n",
              "        async function convertToInteractive(key) {\n",
              "          const element = document.querySelector('#df-f28af9b4-f5fd-43bb-8ca2-f6d4ba34a6be');\n",
              "          const dataTable =\n",
              "            await google.colab.kernel.invokeFunction('convertToInteractive',\n",
              "                                                     [key], {});\n",
              "          if (!dataTable) return;\n",
              "\n",
              "          const docLinkHtml = 'Like what you see? Visit the ' +\n",
              "            '<a target=\"_blank\" href=https://colab.research.google.com/notebooks/data_table.ipynb>data table notebook</a>'\n",
              "            + ' to learn more about interactive tables.';\n",
              "          element.innerHTML = '';\n",
              "          dataTable['output_type'] = 'display_data';\n",
              "          await google.colab.output.renderOutput(dataTable, element);\n",
              "          const docLink = document.createElement('div');\n",
              "          docLink.innerHTML = docLinkHtml;\n",
              "          element.appendChild(docLink);\n",
              "        }\n",
              "      </script>\n",
              "    </div>\n",
              "  </div>\n",
              "  "
            ]
          },
          "metadata": {},
          "execution_count": 26
        }
      ],
      "source": [
        "train.head()\n"
      ]
    },
    {
      "cell_type": "code",
      "execution_count": null,
      "metadata": {
        "colab": {
          "base_uri": "https://localhost:8080/"
        },
        "id": "PTK3sc5CKKcs",
        "outputId": "aaa0cdce-c676-4b3e-beb8-8771ed758a23"
      },
      "outputs": [
        {
          "output_type": "execute_result",
          "data": {
            "text/plain": [
              "0    32542\n",
              "1      584\n",
              "Name: target, dtype: int64"
            ]
          },
          "metadata": {},
          "execution_count": 27
        }
      ],
      "source": [
        "train['target'].value_counts()\n"
      ]
    },
    {
      "cell_type": "code",
      "execution_count": null,
      "metadata": {
        "colab": {
          "base_uri": "https://localhost:8080/"
        },
        "id": "2lNAiRttKKaR",
        "outputId": "b176cdd9-e9aa-426a-b668-6d3ba169b490"
      },
      "outputs": [
        {
          "output_type": "stream",
          "name": "stdout",
          "text": [
            "Benign cases are 98.23703435367989\n"
          ]
        }
      ],
      "source": [
        "dist=train['target'].value_counts()\n",
        "print(\"Benign cases are\",(32542/(32542+584))*100)"
      ]
    },
    {
      "cell_type": "code",
      "execution_count": null,
      "metadata": {
        "colab": {
          "base_uri": "https://localhost:8080/",
          "height": 363
        },
        "id": "fFoBqE-rKKSN",
        "outputId": "4e9d3995-facb-4291-db20-9bda5c9bc328"
      },
      "outputs": [
        {
          "output_type": "execute_result",
          "data": {
            "text/plain": [
              "benign_malignant                    benign  malignant\n",
              "row_0                                                \n",
              "atypical melanocytic proliferation       1          0\n",
              "cafe-au-lait macule                      1          0\n",
              "lentigo NOS                             44          0\n",
              "lichenoid keratosis                     37          0\n",
              "melanoma                                 0        584\n",
              "nevus                                 5193          0\n",
              "seborrheic keratosis                   135          0\n",
              "solar lentigo                            7          0\n",
              "unknown                              27124          0"
            ],
            "text/html": [
              "\n",
              "  <div id=\"df-f8c376ec-d479-4922-b240-b269c630549e\">\n",
              "    <div class=\"colab-df-container\">\n",
              "      <div>\n",
              "<style scoped>\n",
              "    .dataframe tbody tr th:only-of-type {\n",
              "        vertical-align: middle;\n",
              "    }\n",
              "\n",
              "    .dataframe tbody tr th {\n",
              "        vertical-align: top;\n",
              "    }\n",
              "\n",
              "    .dataframe thead th {\n",
              "        text-align: right;\n",
              "    }\n",
              "</style>\n",
              "<table border=\"1\" class=\"dataframe\">\n",
              "  <thead>\n",
              "    <tr style=\"text-align: right;\">\n",
              "      <th>benign_malignant</th>\n",
              "      <th>benign</th>\n",
              "      <th>malignant</th>\n",
              "    </tr>\n",
              "    <tr>\n",
              "      <th>row_0</th>\n",
              "      <th></th>\n",
              "      <th></th>\n",
              "    </tr>\n",
              "  </thead>\n",
              "  <tbody>\n",
              "    <tr>\n",
              "      <th>atypical melanocytic proliferation</th>\n",
              "      <td>1</td>\n",
              "      <td>0</td>\n",
              "    </tr>\n",
              "    <tr>\n",
              "      <th>cafe-au-lait macule</th>\n",
              "      <td>1</td>\n",
              "      <td>0</td>\n",
              "    </tr>\n",
              "    <tr>\n",
              "      <th>lentigo NOS</th>\n",
              "      <td>44</td>\n",
              "      <td>0</td>\n",
              "    </tr>\n",
              "    <tr>\n",
              "      <th>lichenoid keratosis</th>\n",
              "      <td>37</td>\n",
              "      <td>0</td>\n",
              "    </tr>\n",
              "    <tr>\n",
              "      <th>melanoma</th>\n",
              "      <td>0</td>\n",
              "      <td>584</td>\n",
              "    </tr>\n",
              "    <tr>\n",
              "      <th>nevus</th>\n",
              "      <td>5193</td>\n",
              "      <td>0</td>\n",
              "    </tr>\n",
              "    <tr>\n",
              "      <th>seborrheic keratosis</th>\n",
              "      <td>135</td>\n",
              "      <td>0</td>\n",
              "    </tr>\n",
              "    <tr>\n",
              "      <th>solar lentigo</th>\n",
              "      <td>7</td>\n",
              "      <td>0</td>\n",
              "    </tr>\n",
              "    <tr>\n",
              "      <th>unknown</th>\n",
              "      <td>27124</td>\n",
              "      <td>0</td>\n",
              "    </tr>\n",
              "  </tbody>\n",
              "</table>\n",
              "</div>\n",
              "      <button class=\"colab-df-convert\" onclick=\"convertToInteractive('df-f8c376ec-d479-4922-b240-b269c630549e')\"\n",
              "              title=\"Convert this dataframe to an interactive table.\"\n",
              "              style=\"display:none;\">\n",
              "        \n",
              "  <svg xmlns=\"http://www.w3.org/2000/svg\" height=\"24px\"viewBox=\"0 0 24 24\"\n",
              "       width=\"24px\">\n",
              "    <path d=\"M0 0h24v24H0V0z\" fill=\"none\"/>\n",
              "    <path d=\"M18.56 5.44l.94 2.06.94-2.06 2.06-.94-2.06-.94-.94-2.06-.94 2.06-2.06.94zm-11 1L8.5 8.5l.94-2.06 2.06-.94-2.06-.94L8.5 2.5l-.94 2.06-2.06.94zm10 10l.94 2.06.94-2.06 2.06-.94-2.06-.94-.94-2.06-.94 2.06-2.06.94z\"/><path d=\"M17.41 7.96l-1.37-1.37c-.4-.4-.92-.59-1.43-.59-.52 0-1.04.2-1.43.59L10.3 9.45l-7.72 7.72c-.78.78-.78 2.05 0 2.83L4 21.41c.39.39.9.59 1.41.59.51 0 1.02-.2 1.41-.59l7.78-7.78 2.81-2.81c.8-.78.8-2.07 0-2.86zM5.41 20L4 18.59l7.72-7.72 1.47 1.35L5.41 20z\"/>\n",
              "  </svg>\n",
              "      </button>\n",
              "      \n",
              "  <style>\n",
              "    .colab-df-container {\n",
              "      display:flex;\n",
              "      flex-wrap:wrap;\n",
              "      gap: 12px;\n",
              "    }\n",
              "\n",
              "    .colab-df-convert {\n",
              "      background-color: #E8F0FE;\n",
              "      border: none;\n",
              "      border-radius: 50%;\n",
              "      cursor: pointer;\n",
              "      display: none;\n",
              "      fill: #1967D2;\n",
              "      height: 32px;\n",
              "      padding: 0 0 0 0;\n",
              "      width: 32px;\n",
              "    }\n",
              "\n",
              "    .colab-df-convert:hover {\n",
              "      background-color: #E2EBFA;\n",
              "      box-shadow: 0px 1px 2px rgba(60, 64, 67, 0.3), 0px 1px 3px 1px rgba(60, 64, 67, 0.15);\n",
              "      fill: #174EA6;\n",
              "    }\n",
              "\n",
              "    [theme=dark] .colab-df-convert {\n",
              "      background-color: #3B4455;\n",
              "      fill: #D2E3FC;\n",
              "    }\n",
              "\n",
              "    [theme=dark] .colab-df-convert:hover {\n",
              "      background-color: #434B5C;\n",
              "      box-shadow: 0px 1px 3px 1px rgba(0, 0, 0, 0.15);\n",
              "      filter: drop-shadow(0px 1px 2px rgba(0, 0, 0, 0.3));\n",
              "      fill: #FFFFFF;\n",
              "    }\n",
              "  </style>\n",
              "\n",
              "      <script>\n",
              "        const buttonEl =\n",
              "          document.querySelector('#df-f8c376ec-d479-4922-b240-b269c630549e button.colab-df-convert');\n",
              "        buttonEl.style.display =\n",
              "          google.colab.kernel.accessAllowed ? 'block' : 'none';\n",
              "\n",
              "        async function convertToInteractive(key) {\n",
              "          const element = document.querySelector('#df-f8c376ec-d479-4922-b240-b269c630549e');\n",
              "          const dataTable =\n",
              "            await google.colab.kernel.invokeFunction('convertToInteractive',\n",
              "                                                     [key], {});\n",
              "          if (!dataTable) return;\n",
              "\n",
              "          const docLinkHtml = 'Like what you see? Visit the ' +\n",
              "            '<a target=\"_blank\" href=https://colab.research.google.com/notebooks/data_table.ipynb>data table notebook</a>'\n",
              "            + ' to learn more about interactive tables.';\n",
              "          element.innerHTML = '';\n",
              "          dataTable['output_type'] = 'display_data';\n",
              "          await google.colab.output.renderOutput(dataTable, element);\n",
              "          const docLink = document.createElement('div');\n",
              "          docLink.innerHTML = docLinkHtml;\n",
              "          element.appendChild(docLink);\n",
              "        }\n",
              "      </script>\n",
              "    </div>\n",
              "  </div>\n",
              "  "
            ]
          },
          "metadata": {},
          "execution_count": 29
        }
      ],
      "source": [
        "new=train.drop(labels=['image_name','patient_id','sex','age_approx','anatom_site_general_challenge','target'],axis=1)\n",
        "pd.crosstab(new['diagnosis'].values,new['benign_malignant'])"
      ]
    },
    {
      "cell_type": "code",
      "execution_count": null,
      "metadata": {
        "id": "oVS5rLusKKPf"
      },
      "outputs": [],
      "source": [
        "df_0=train[train['target']==0]\n",
        "df_1=train[train['target']==1]\n",
        "train=pd.concat([df_0,df_1])\n",
        "train=train.reset_index()"
      ]
    },
    {
      "cell_type": "code",
      "execution_count": null,
      "metadata": {
        "id": "4aPdy16gKKHi"
      },
      "outputs": [],
      "source": [
        "labels_x=[]\n",
        "labels_y=[]\n",
        "data=[]\n",
        "test_data=[]\n",
        "benign_cnt = 0\n",
        "malignant_cnt = 0\n",
        "for i in range(train.shape[0]):\n",
        "    if train['target'].iloc[i] == 0:\n",
        "      benign_cnt += 1\n",
        "      if benign_cnt % 10 == 0:\n",
        "        test_data.append(test_dir + train['image_name'].iloc[i]+'.jpg')\n",
        "        labels_y.append(0)\n",
        "      else:\n",
        "        data.append(train_dir + train['image_name'].iloc[i]+'.jpg')\n",
        "        labels_x.append(0)\n",
        "    else:\n",
        "      malignant_cnt += 1\n",
        "      if malignant_cnt % 10 == 0:\n",
        "        test_data.append(test_dir + train['image_name'].iloc[i]+'.jpg')\n",
        "        labels_y.append(1)\n",
        "      else:\n",
        "        data.append(train_dir + train['image_name'].iloc[i]+'.jpg')\n",
        "        labels_x.append(1)\n",
        "\n",
        "df=pd.DataFrame(data)\n",
        "df.columns=['images']\n",
        "df['target']=labels_x\n",
        "\n",
        "df_test=pd.DataFrame(test_data)\n",
        "df_test.columns=['images']\n",
        "df_test['target']=labels_y"
      ]
    },
    {
      "cell_type": "code",
      "execution_count": null,
      "metadata": {
        "id": "-VGIPl4FVpb2"
      },
      "outputs": [],
      "source": []
    },
    {
      "cell_type": "code",
      "execution_count": null,
      "metadata": {
        "colab": {
          "base_uri": "https://localhost:8080/"
        },
        "id": "A9gukTAyXluT",
        "outputId": "cd0cefdd-551f-416e-d85d-bbbb8eabed25"
      },
      "outputs": [
        {
          "output_type": "execute_result",
          "data": {
            "text/plain": [
              "<tf.Tensor: shape=(3312,), dtype=float32, numpy=array([0., 0., 0., ..., 1., 1., 1.], dtype=float32)>"
            ]
          },
          "metadata": {},
          "execution_count": 32
        }
      ],
      "source": [
        "tf.cast(labels_x, tf.float32)\n",
        "tf.cast(labels_y, tf.float32)"
      ]
    },
    {
      "cell_type": "code",
      "execution_count": null,
      "metadata": {
        "id": "sIehdw-shi-a"
      },
      "outputs": [],
      "source": [
        "X_train, X_val, y_train, y_val = train_test_split(df['images'],df['target'], test_size=0.2, random_state=1234)\n"
      ]
    },
    {
      "cell_type": "code",
      "execution_count": null,
      "metadata": {
        "id": "2XW3QkqYKKE3"
      },
      "outputs": [],
      "source": [
        "train=pd.DataFrame(X_train)\n",
        "train.columns=['images']\n",
        "train['target']=y_train\n",
        "\n",
        "validation=pd.DataFrame(X_val)\n",
        "validation.columns=['images']\n",
        "validation['target']=y_val"
      ]
    },
    {
      "cell_type": "code",
      "execution_count": null,
      "metadata": {
        "colab": {
          "base_uri": "https://localhost:8080/"
        },
        "id": "N5GbVnkcKKB3",
        "outputId": "62c735b1-9dd8-43c8-a9d3-1409bbcfb69c"
      },
      "outputs": [
        {
          "output_type": "stream",
          "name": "stdout",
          "text": [
            "Found 17652 validated image filenames.\n",
            "Found 4458 validated image filenames.\n"
          ]
        },
        {
          "output_type": "stream",
          "name": "stderr",
          "text": [
            "/usr/local/lib/python3.7/dist-packages/keras_preprocessing/image/dataframe_iterator.py:282: UserWarning: Found 6199 invalid image filename(s) in x_col=\"images\". These filename(s) will be ignored.\n",
            "  .format(n_invalid, x_col)\n",
            "/usr/local/lib/python3.7/dist-packages/keras_preprocessing/image/dataframe_iterator.py:282: UserWarning: Found 1505 invalid image filename(s) in x_col=\"images\". These filename(s) will be ignored.\n",
            "  .format(n_invalid, x_col)\n"
          ]
        }
      ],
      "source": [
        "train_datagen = ImageDataGenerator(rescale=1./255,rotation_range=20,\n",
        "    width_shift_range=0.2,\n",
        "    height_shift_range=0.2,horizontal_flip=True)\n",
        "val_datagen=ImageDataGenerator(rescale=1./255)\n",
        "train_generator = train_datagen.flow_from_dataframe(\n",
        "    train,\n",
        "    x_col='images',\n",
        "    y_col='target',\n",
        "    target_size=(224, 224),\n",
        "    batch_size=8,\n",
        "    shuffle=True,\n",
        "    class_mode='raw')\n",
        "\n",
        "validation_generator = val_datagen.flow_from_dataframe(\n",
        "    validation,\n",
        "    x_col='images',\n",
        "    y_col='target',\n",
        "    target_size=(224, 224),\n",
        "    shuffle=False,\n",
        "    batch_size=8,\n",
        "    class_mode='raw')"
      ]
    },
    {
      "cell_type": "code",
      "execution_count": null,
      "metadata": {
        "id": "c4oVa7pwKJ-Y"
      },
      "outputs": [],
      "source": [
        "def vgg16_model( num_classes=None):\n",
        "\n",
        "    model = VGG16(weights='imagenet', include_top=False, input_shape=(224, 224, 3))\n",
        "    x=Flatten()(model.output)\n",
        "    output=Dense(1,activation='sigmoid')(x) # because we have to predict the AUC\n",
        "    model=Model(model.input,output)\n",
        "    \n",
        "    return model\n",
        "\n",
        "vgg_conv=vgg16_model(1)"
      ]
    },
    {
      "cell_type": "code",
      "execution_count": null,
      "metadata": {
        "id": "W_RFLvLPKJ7t"
      },
      "outputs": [],
      "source": [
        "def focal_loss(alpha=0.25,gamma=2.0):\n",
        "    def focal_crossentropy(y_true, y_pred):\n",
        "        y_true = tf.cast(y_true, tf.float32)\n",
        "        bce = K.binary_crossentropy(y_true, y_pred)\n",
        "        \n",
        "        y_pred = K.clip(y_pred, K.epsilon(), 1.- K.epsilon())\n",
        "        p_t = (y_true*y_pred) + ((1-y_true)*(1-y_pred))\n",
        "        \n",
        "        alpha_factor = 1\n",
        "        modulating_factor = 1\n",
        "\n",
        "        alpha_factor = y_true*alpha + ((1-alpha)*(1-y_true))\n",
        "        modulating_factor = K.pow((1-p_t), gamma)\n",
        "\n",
        "        # compute the final loss and return\n",
        "        return K.mean(alpha_factor*modulating_factor*bce, axis=-1)\n",
        "    return focal_crossentropy"
      ]
    },
    {
      "cell_type": "code",
      "execution_count": null,
      "metadata": {
        "colab": {
          "base_uri": "https://localhost:8080/"
        },
        "id": "U0jZjW-_KJx7",
        "outputId": "c2fa56d5-dc37-435a-b998-3dfb515e08c2"
      },
      "outputs": [
        {
          "output_type": "stream",
          "name": "stderr",
          "text": [
            "/usr/local/lib/python3.7/dist-packages/keras/optimizer_v2/adam.py:105: UserWarning: The `lr` argument is deprecated, use `learning_rate` instead.\n",
            "  super(Adam, self).__init__(name, **kwargs)\n"
          ]
        }
      ],
      "source": [
        "opt = Adam(lr=1e-5)\n",
        "vgg_conv.compile(loss=focal_loss(), metrics=[tf.keras.metrics.AUC()],optimizer=opt)"
      ]
    },
    {
      "cell_type": "code",
      "execution_count": null,
      "metadata": {
        "colab": {
          "base_uri": "https://localhost:8080/"
        },
        "id": "8WiHuiteWrvH",
        "outputId": "d9585108-6371-4d8a-ce0d-8cc36bb15cd8"
      },
      "outputs": [
        {
          "output_type": "stream",
          "name": "stdout",
          "text": [
            "Number of training and validation steps: 372 and 93\n"
          ]
        }
      ],
      "source": [
        "nb_epochs = 3\n",
        "batch_size= 64\n",
        "nb_train_steps = train.shape[0]//batch_size\n",
        "nb_val_steps = validation.shape[0]//batch_size\n",
        "print(\"Number of training and validation steps: {} and {}\".format(nb_train_steps,nb_val_steps))"
      ]
    },
    {
      "cell_type": "code",
      "execution_count": null,
      "metadata": {
        "colab": {
          "base_uri": "https://localhost:8080/",
          "height": 724
        },
        "id": "53WDgte6WtZo",
        "outputId": "125f1672-3dea-4afe-c48c-11b1133376a0"
      },
      "outputs": [
        {
          "output_type": "display_data",
          "data": {
            "text/plain": [
              "<Figure size 864x576 with 2 Axes>"
            ],
            "image/png": "[encoded data removed]"
          },
          "metadata": {
            "needs_background": "light"
          }
        },
        {
          "output_type": "stream",
          "name": "stdout",
          "text": [
            "auc_1\n",
            "\ttraining         \t (min:    0.689, max:    0.792, cur:    0.733)\n",
            "\tvalidation       \t (min:    0.768, max:    0.863, cur:    0.855)\n",
            "Loss\n",
            "\ttraining         \t (min:    0.008, max:    0.008, cur:    0.008)\n",
            "\tvalidation       \t (min:    0.009, max:    0.010, cur:    0.009)\n",
            "\b\b\b\b\b\b\b\b\b\b\b\b\b\b\b\b\b\b\b\b\b\b\b\b\b\b\b\b\b\b\b\b\b\b\b\b\b\b\b\b\b\b\b\b\b\b\b\b\b\b\b\b\b\b\b\b\b\b\b\b\b\b\b\b\b\b\b\b\b\b\b\b\b\b\b\b\b\b\b\b\b\r372/372 [==============================] - 638s 2s/step - loss: 0.0080 - auc_1: 0.7333 - val_loss: 0.0088 - val_auc_1: 0.8545\n"
          ]
        },
        {
          "output_type": "execute_result",
          "data": {
            "text/plain": [
              "<keras.callbacks.History at 0x7fea52245810>"
            ]
          },
          "metadata": {},
          "execution_count": 63
        }
      ],
      "source": [
        "cb=[PlotLossesKeras()]\n",
        "vgg_conv.fit_generator(\n",
        "    train_generator,\n",
        "    steps_per_epoch=nb_train_steps,\n",
        "    epochs=nb_epochs,\n",
        "    validation_data=validation_generator,\n",
        "    callbacks=cb,\n",
        "    validation_steps=nb_val_steps)"
      ]
    },
    {
      "cell_type": "code",
      "execution_count": null,
      "metadata": {
        "id": "qofRrcGyWuzo"
      },
      "outputs": [],
      "source": [
        "target=[]\n",
        "df_t=[]\n",
        "for i in range(len(df_test['images'])):\n",
        "    img=cv2.imread(str(df_test['images'][i]))\n",
        "    try:\n",
        "      img = cv2.resize(img, (224,224))\n",
        "      img = cv2.cvtColor(img, cv2.COLOR_BGR2RGB)\n",
        "      img = img.astype(np.float32)/255.\n",
        "      img=np.reshape(img,(1,224,224,3))\n",
        "      prediction=vgg_conv.predict(img)\n",
        "      target.append(prediction[0][0])\n",
        "      df_t.append(labels_y[i])\n",
        "    except:\n",
        "      pass"
      ]
    },
    {
      "cell_type": "code",
      "execution_count": null,
      "metadata": {
        "id": "X3F4G9NSlUCA"
      },
      "outputs": [],
      "source": [
        "targett = []\n",
        "for t in target:\n",
        "  if t > 0.29:\n",
        "    targett.append(1)\n",
        "  else:\n",
        "    targett.append(0)"
      ]
    },
    {
      "cell_type": "code",
      "execution_count": null,
      "metadata": {
        "id": "Qc_C91GRmw8Z"
      },
      "outputs": [],
      "source": [
        "matrix = metrics.confusion_matrix(df_t, targett)\n"
      ]
    },
    {
      "cell_type": "code",
      "execution_count": null,
      "metadata": {
        "colab": {
          "base_uri": "https://localhost:8080/"
        },
        "id": "vE-RtDbcoaf3",
        "outputId": "7d9badb6-ed20-4fb7-b7c2-93c85c0cd19d"
      },
      "outputs": [
        {
          "output_type": "execute_result",
          "data": {
            "text/plain": [
              "array([[2391,   28],\n",
              "       [  26,    9]])"
            ]
          },
          "metadata": {},
          "execution_count": 97
        }
      ],
      "source": [
        "matrix"
      ]
    },
    {
      "cell_type": "code",
      "execution_count": null,
      "metadata": {
        "id": "eWYq7kL4nbn4"
      },
      "outputs": [],
      "source": [
        "tn, fn, fp, tp = matrix[0, 0], matrix[0, 1], matrix[1, 0], matrix[1, 1]"
      ]
    },
    {
      "cell_type": "code",
      "execution_count": null,
      "metadata": {
        "id": "hnXqAoKundQs"
      },
      "outputs": [],
      "source": [
        "accuracy = (tp + tn)/(tp + tn + fp + fn)\n",
        "recall = tp/(tp + fn)\n",
        "precision = tp/(tp+fp)\n",
        "f = 2*(precision*recall)/(precision+recall)"
      ]
    },
    {
      "cell_type": "code",
      "execution_count": null,
      "metadata": {
        "colab": {
          "base_uri": "https://localhost:8080/"
        },
        "id": "O-09vV9goU__",
        "outputId": "e09b059f-9d5a-4547-aa5a-319ad2defaae"
      },
      "outputs": [
        {
          "output_type": "stream",
          "name": "stdout",
          "text": [
            "accuracy:  0.9779951100244498\n",
            "recall:  0.24324324324324326\n",
            "precision:  0.2571428571428571\n",
            "f1 score:  0.25\n"
          ]
        }
      ],
      "source": [
        "print('accuracy: ', accuracy)\n",
        "print('recall: ', recall)\n",
        "print('precision: ', precision)\n",
        "print('f1 score: ', f)"
      ]
    },
    {
      "cell_type": "code",
      "source": [
        "def vgg19_model( num_classes=None):\n",
        "\n",
        "    model = tf.keras.applications.vgg19.VGG19(weights='imagenet', include_top=False, input_shape=(224, 224, 3))\n",
        "    x=Flatten()(model.output)\n",
        "    output=Dense(1,activation='sigmoid')(x) # because we have to predict the AUC\n",
        "    model=Model(model.input,output)\n",
        "    \n",
        "    return model\n",
        "\n",
        "vgg19_conv=vgg19_model(1)"
      ],
      "metadata": {
        "id": "bbLBGdrxuaIE"
      },
      "execution_count": null,
      "outputs": []
    },
    {
      "cell_type": "code",
      "source": [
        "opt = Adam(lr=1e-5)\n",
        "vgg19_conv.compile(loss=focal_loss(), metrics=[tf.keras.metrics.AUC()],optimizer=opt)"
      ],
      "metadata": {
        "colab": {
          "base_uri": "https://localhost:8080/"
        },
        "id": "wgACZzTZudPr",
        "outputId": "f8ae25d5-03e4-4cf0-982f-1e022d427f07"
      },
      "execution_count": null,
      "outputs": [
        {
          "output_type": "stream",
          "name": "stderr",
          "text": [
            "/usr/local/lib/python3.7/dist-packages/keras/optimizer_v2/adam.py:105: UserWarning: The `lr` argument is deprecated, use `learning_rate` instead.\n",
            "  super(Adam, self).__init__(name, **kwargs)\n"
          ]
        }
      ]
    },
    {
      "cell_type": "code",
      "source": [
        "from PIL import ImageFile\n",
        "ImageFile.LOAD_TRUNCATED_IMAGES = True\n",
        "\n",
        "\n",
        "nb_epochs = 3\n",
        "batch_size= 64\n",
        "nb_train_steps = train.shape[0]//batch_size\n",
        "nb_val_steps = validation.shape[0]//batch_size\n",
        "print(\"Number of training and validation steps: {} and {}\".format(nb_train_steps,nb_val_steps))"
      ],
      "metadata": {
        "colab": {
          "base_uri": "https://localhost:8080/"
        },
        "id": "wNNkds69ufNl",
        "outputId": "9756cc7f-6da6-430f-f334-d1334fca5955"
      },
      "execution_count": null,
      "outputs": [
        {
          "output_type": "stream",
          "name": "stdout",
          "text": [
            "Number of training and validation steps: 372 and 93\n"
          ]
        }
      ]
    },
    {
      "cell_type": "code",
      "source": [
        "cb=[PlotLossesKeras()]\n",
        "vgg19_conv.fit_generator(\n",
        "    train_generator,\n",
        "    steps_per_epoch=nb_train_steps,\n",
        "    epochs=nb_epochs,\n",
        "    validation_data=validation_generator,\n",
        "    callbacks=cb,\n",
        "    validation_steps=nb_val_steps)"
      ],
      "metadata": {
        "colab": {
          "base_uri": "https://localhost:8080/",
          "height": 724
        },
        "id": "GRn0kiyhughA",
        "outputId": "584edd58-ad20-487a-8dfc-d9c35b8db730"
      },
      "execution_count": null,
      "outputs": [
        {
          "output_type": "display_data",
          "data": {
            "text/plain": [
              "<Figure size 864x576 with 2 Axes>"
            ],
            "image/png": "[encoded data removed]"
          },
          "metadata": {
            "needs_background": "light"
          }
        },
        {
          "output_type": "stream",
          "name": "stdout",
          "text": [
            "auc_2\n",
            "\ttraining         \t (min:    0.611, max:    0.750, cur:    0.750)\n",
            "\tvalidation       \t (min:    0.696, max:    0.793, cur:    0.792)\n",
            "Loss\n",
            "\ttraining         \t (min:    0.007, max:    0.008, cur:    0.008)\n",
            "\tvalidation       \t (min:    0.009, max:    0.011, cur:    0.010)\n",
            "\b\b\b\b\b\b\b\b\b\b\b\b\b\b\b\b\b\b\b\b\b\b\b\b\b\b\b\b\b\b\b\b\b\b\b\b\b\b\b\b\b\b\b\b\b\b\b\b\b\b\b\b\b\b\b\b\b\b\b\b\b\b\b\b\b\b\b\b\b\b\b\b\b\b\b\b\b\b\b\b\b\r372/372 [==============================] - 660s 2s/step - loss: 0.0079 - auc_2: 0.7505 - val_loss: 0.0097 - val_auc_2: 0.7923\n"
          ]
        },
        {
          "output_type": "execute_result",
          "data": {
            "text/plain": [
              "<keras.callbacks.History at 0x7fe9a02d0e50>"
            ]
          },
          "metadata": {},
          "execution_count": 79
        }
      ]
    },
    {
      "cell_type": "code",
      "source": [
        "target=[]\n",
        "df_t=[]\n",
        "for i in range(len(df_test['images'])):\n",
        "    print(df_test['images'][i])\n",
        "    img=cv2.imread(str(df_test['images'][i]))\n",
        "    try:\n",
        "      img = cv2.resize(img, (224,224))\n",
        "      img = cv2.cvtColor(img, cv2.COLOR_BGR2RGB)\n",
        "      img = img.astype(np.float32)/255.\n",
        "      img=np.reshape(img,(1,224,224,3))\n",
        "      prediction=vgg19_conv.predict(img)\n",
        "      target.append(prediction[0][0])\n",
        "      df_t.append(labels_y[i])\n",
        "    except:\n",
        "      pass"
      ],
      "metadata": {
        "id": "KV5EpnjtumUe"
      },
      "execution_count": null,
      "outputs": []
    },
    {
      "cell_type": "code",
      "source": [
        "targett = []\n",
        "for t in target:\n",
        "  if t > 0.70:\n",
        "    targett.append(1)\n",
        "  else:\n",
        "    targett.append(0)"
      ],
      "metadata": {
        "id": "pb6TSb4KuoA_"
      },
      "execution_count": null,
      "outputs": []
    },
    {
      "cell_type": "code",
      "source": [
        "matrix = metrics.confusion_matrix(df_t, targett)\n"
      ],
      "metadata": {
        "id": "ElQipBZKupU0"
      },
      "execution_count": null,
      "outputs": []
    },
    {
      "cell_type": "code",
      "source": [
        "matrix"
      ],
      "metadata": {
        "colab": {
          "base_uri": "https://localhost:8080/"
        },
        "id": "3gr-LL8Yuq8E",
        "outputId": "cd79d263-d1f8-4832-9fb8-877d9e02d472"
      },
      "execution_count": null,
      "outputs": [
        {
          "output_type": "execute_result",
          "data": {
            "text/plain": [
              "array([[1955,  464],\n",
              "       [  26,    9]])"
            ]
          },
          "metadata": {},
          "execution_count": 136
        }
      ]
    },
    {
      "cell_type": "code",
      "source": [
        "tn, fn, fp, tp = matrix[0, 0], matrix[0, 1], matrix[1, 0], matrix[1, 1]"
      ],
      "metadata": {
        "id": "HbyzRencUsrn"
      },
      "execution_count": null,
      "outputs": []
    },
    {
      "cell_type": "code",
      "source": [
        "accuracy = (tp + tn)/(tp + tn + fp + fn)\n",
        "recall = tp/(tp + fn)\n",
        "precision = tp/(tp+fp)\n",
        "f = 2*(precision*recall)/(precision+recall)"
      ],
      "metadata": {
        "id": "f7G4nMEyUqi0"
      },
      "execution_count": null,
      "outputs": []
    },
    {
      "cell_type": "code",
      "source": [
        "print('accuracy: ', accuracy)\n",
        "print('recall: ', recall)\n",
        "print('precision: ', precision)\n",
        "print('f1 score: ', f)"
      ],
      "metadata": {
        "colab": {
          "base_uri": "https://localhost:8080/"
        },
        "id": "-wd9uq4_Uvff",
        "outputId": "d6e2e962-bbbc-4a18-f492-aa57367a188b"
      },
      "execution_count": null,
      "outputs": [
        {
          "output_type": "stream",
          "name": "stdout",
          "text": [
            "accuracy:  0.8003259983700082\n",
            "recall:  0.019027484143763214\n",
            "precision:  0.2571428571428571\n",
            "f1 score:  0.03543307086614173\n"
          ]
        }
      ]
    },
    {
      "cell_type": "code",
      "source": [],
      "metadata": {
        "id": "Udcj2_s0XheG"
      },
      "execution_count": null,
      "outputs": []
    },
    {
      "cell_type": "code",
      "source": [
        "def inceptionv3_model( num_classes=None):\n",
        "\n",
        "    model = tf.keras.applications.inception_v3.InceptionV3(weights='imagenet', include_top=False, input_shape=(224, 224, 3))\n",
        "    x=Flatten()(model.output)\n",
        "    output=Dense(1,activation='sigmoid')(x) # because we have to predict the AUC\n",
        "    model=Model(model.input,output)\n",
        "    \n",
        "    return model\n",
        "\n",
        "inceptionv3_conv=inceptionv3_model(1)"
      ],
      "metadata": {
        "colab": {
          "base_uri": "https://localhost:8080/"
        },
        "id": "ICCQbjQCXiof",
        "outputId": "d94deed2-02bc-47d9-b853-1c5d41e79335"
      },
      "execution_count": null,
      "outputs": [
        {
          "output_type": "stream",
          "name": "stdout",
          "text": [
            "Downloading data from https://storage.googleapis.com/tensorflow/keras-applications/inception_v3/inception_v3_weights_tf_dim_ordering_tf_kernels_notop.h5\n",
            "87916544/87910968 [==============================] - 0s 0us/step\n",
            "87924736/87910968 [==============================] - 0s 0us/step\n"
          ]
        }
      ]
    },
    {
      "cell_type": "code",
      "source": [
        "opt = Adam(lr=1e-5)\n",
        "inceptionv3_conv.compile(loss=focal_loss(), metrics=[tf.keras.metrics.AUC()],optimizer=opt)"
      ],
      "metadata": {
        "colab": {
          "base_uri": "https://localhost:8080/"
        },
        "outputId": "3148b799-d8b4-472e-c8b5-605bd24b1058",
        "id": "70kJDIgZXiof"
      },
      "execution_count": null,
      "outputs": [
        {
          "output_type": "stream",
          "name": "stderr",
          "text": [
            "/usr/local/lib/python3.7/dist-packages/keras/optimizer_v2/adam.py:105: UserWarning: The `lr` argument is deprecated, use `learning_rate` instead.\n",
            "  super(Adam, self).__init__(name, **kwargs)\n"
          ]
        }
      ]
    },
    {
      "cell_type": "code",
      "source": [
        "from PIL import ImageFile\n",
        "ImageFile.LOAD_TRUNCATED_IMAGES = True\n",
        "\n",
        "\n",
        "nb_epochs = 3\n",
        "batch_size= 64\n",
        "nb_train_steps = train.shape[0]//batch_size\n",
        "nb_val_steps = validation.shape[0]//batch_size\n",
        "print(\"Number of training and validation steps: {} and {}\".format(nb_train_steps,nb_val_steps))"
      ],
      "metadata": {
        "colab": {
          "base_uri": "https://localhost:8080/"
        },
        "outputId": "91119cb3-b2c3-4b9c-efb3-876ed74abfcc",
        "id": "0tz5bglCXiof"
      },
      "execution_count": null,
      "outputs": [
        {
          "output_type": "stream",
          "name": "stdout",
          "text": [
            "Number of training and validation steps: 372 and 93\n"
          ]
        }
      ]
    },
    {
      "cell_type": "code",
      "source": [
        "cb=[PlotLossesKeras()]\n",
        "inceptionv3_conv.fit_generator(\n",
        "    train_generator,\n",
        "    steps_per_epoch=nb_train_steps,\n",
        "    epochs=nb_epochs,\n",
        "    validation_data=validation_generator,\n",
        "    callbacks=cb,\n",
        "    validation_steps=nb_val_steps)"
      ],
      "metadata": {
        "colab": {
          "base_uri": "https://localhost:8080/",
          "height": 724
        },
        "outputId": "ee03c704-ff9a-4c79-a282-3ff2ffe5a81a",
        "id": "9A5NqNrzXiog"
      },
      "execution_count": null,
      "outputs": [
        {
          "output_type": "display_data",
          "data": {
            "text/plain": [
              "<Figure size 864x576 with 2 Axes>"
            ],
            "image/png": "[encoded data removed]"
          },
          "metadata": {
            "needs_background": "light"
          }
        },
        {
          "output_type": "stream",
          "name": "stdout",
          "text": [
            "auc_3\n",
            "\ttraining         \t (min:    0.560, max:    0.787, cur:    0.787)\n",
            "\tvalidation       \t (min:    0.707, max:    0.778, cur:    0.778)\n",
            "Loss\n",
            "\ttraining         \t (min:    0.007, max:    0.015, cur:    0.007)\n",
            "\tvalidation       \t (min:    0.012, max:    0.013, cur:    0.012)\n",
            "\b\b\b\b\b\b\b\b\b\b\b\b\b\b\b\b\b\b\b\b\b\b\b\b\b\b\b\b\b\b\b\b\b\b\b\b\b\b\b\b\b\b\b\b\b\b\b\b\b\b\b\b\b\b\b\b\b\b\b\b\b\b\b\b\b\b\b\b\b\b\b\b\b\b\b\b\b\b\b\b\b\r372/372 [==============================] - 624s 2s/step - loss: 0.0075 - auc_3: 0.7870 - val_loss: 0.0121 - val_auc_3: 0.7784\n"
          ]
        },
        {
          "output_type": "execute_result",
          "data": {
            "text/plain": [
              "<keras.callbacks.History at 0x7fea38f137d0>"
            ]
          },
          "metadata": {},
          "execution_count": 143
        }
      ]
    },
    {
      "cell_type": "code",
      "source": [
        "target=[]\n",
        "df_t=[]\n",
        "for i in range(len(df_test['images'])):\n",
        "    print(df_test['images'][i])\n",
        "    img=cv2.imread(str(df_test['images'][i]))\n",
        "    try:\n",
        "      img = cv2.resize(img, (224,224))\n",
        "      img = cv2.cvtColor(img, cv2.COLOR_BGR2RGB)\n",
        "      img = img.astype(np.float32)/255.\n",
        "      img=np.reshape(img,(1,224,224,3))\n",
        "      prediction=inceptionv3_conv.predict(img)\n",
        "      target.append(prediction[0][0])\n",
        "      df_t.append(labels_y[i])\n",
        "    except:\n",
        "      pass"
      ],
      "metadata": {
        "id": "TYQI8osyXiog"
      },
      "execution_count": null,
      "outputs": []
    },
    {
      "cell_type": "code",
      "source": [
        "targett = []\n",
        "for t in target:\n",
        "  if t > 0.33:\n",
        "    targett.append(1)\n",
        "  else:\n",
        "    targett.append(0)"
      ],
      "metadata": {
        "id": "9RLnDFJIXiog"
      },
      "execution_count": null,
      "outputs": []
    },
    {
      "cell_type": "code",
      "source": [
        "matrix = metrics.confusion_matrix(df_t, targett)\n"
      ],
      "metadata": {
        "id": "J4UzMZMjXiog"
      },
      "execution_count": null,
      "outputs": []
    },
    {
      "cell_type": "code",
      "source": [
        "matrix"
      ],
      "metadata": {
        "colab": {
          "base_uri": "https://localhost:8080/"
        },
        "outputId": "a3168119-2eb2-4729-950b-13e19ab323f3",
        "id": "2Lgv42EOXioh"
      },
      "execution_count": null,
      "outputs": [
        {
          "output_type": "execute_result",
          "data": {
            "text/plain": [
              "array([[2371,   48],\n",
              "       [  30,    5]])"
            ]
          },
          "metadata": {},
          "execution_count": 159
        }
      ]
    },
    {
      "cell_type": "code",
      "source": [
        "tn, fn, fp, tp = matrix[0, 0], matrix[0, 1], matrix[1, 0], matrix[1, 1]"
      ],
      "metadata": {
        "id": "fqY0iNf7Xioh"
      },
      "execution_count": null,
      "outputs": []
    },
    {
      "cell_type": "code",
      "source": [
        "accuracy = (tp + tn)/(tp + tn + fp + fn)\n",
        "recall = tp/(tp + fn)\n",
        "precision = tp/(tp+fp)\n",
        "f = 2*(precision*recall)/(precision+recall)"
      ],
      "metadata": {
        "id": "uO2HnJfeXioh"
      },
      "execution_count": null,
      "outputs": []
    },
    {
      "cell_type": "code",
      "source": [
        "print('accuracy: ', accuracy)\n",
        "print('recall: ', recall)\n",
        "print('precision: ', precision)\n",
        "print('f1 score: ', f)"
      ],
      "metadata": {
        "colab": {
          "base_uri": "https://localhost:8080/"
        },
        "outputId": "0c76e4bb-a4e9-40c6-d289-04345894e713",
        "id": "s58wz2VHXioh"
      },
      "execution_count": null,
      "outputs": [
        {
          "output_type": "stream",
          "name": "stdout",
          "text": [
            "accuracy:  0.9682151589242054\n",
            "recall:  0.09433962264150944\n",
            "precision:  0.14285714285714285\n",
            "f1 score:  0.11363636363636365\n"
          ]
        }
      ]
    },
    {
      "cell_type": "code",
      "source": [],
      "metadata": {
        "id": "v-GIWUqBYFwv"
      },
      "execution_count": null,
      "outputs": []
    }
  ],
  "metadata": {
    "accelerator": "GPU",
    "colab": {
      "provenance": [],
      "collapsed_sections": []
    },
    "gpuClass": "standard",
    "kernelspec": {
      "display_name": "Python 3",
      "name": "python3"
    },
    "language_info": {
      "name": "python"
    }
  },
  "nbformat": 4,
  "nbformat_minor": 0
}